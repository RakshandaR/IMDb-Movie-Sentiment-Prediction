{
 "cells": [
  {
   "cell_type": "code",
   "execution_count": 1,
   "id": "4854e84b",
   "metadata": {},
   "outputs": [
    {
     "name": "stdout",
     "output_type": "stream",
     "text": [
      "WARNING:tensorflow:From c:\\Users\\raksh\\Prac Py\\Udemy Course - GenAI, LangChain & Hugging Face\\ANN\\venv\\Lib\\site-packages\\keras\\src\\losses.py:2976: The name tf.losses.sparse_softmax_cross_entropy is deprecated. Please use tf.compat.v1.losses.sparse_softmax_cross_entropy instead.\n",
      "\n"
     ]
    }
   ],
   "source": [
    "import numpy as np\n",
    "import tensorflow as tf\n",
    "from tensorflow.keras.datasets import imdb\n",
    "from tensorflow.keras.preprocessing import sequence\n",
    "from tensorflow.keras.models import load_model"
   ]
  },
  {
   "cell_type": "code",
   "execution_count": 2,
   "id": "210280fe",
   "metadata": {},
   "outputs": [],
   "source": [
    "# Load the word index for the IMDB dataset\n",
    "word_index = imdb.get_word_index()\n",
    "reverse_word_index = {value: key for key, value in word_index.items()}"
   ]
  },
  {
   "cell_type": "code",
   "execution_count": 3,
   "id": "dd135689",
   "metadata": {},
   "outputs": [
    {
     "name": "stdout",
     "output_type": "stream",
     "text": [
      "WARNING:tensorflow:From c:\\Users\\raksh\\Prac Py\\Udemy Course - GenAI, LangChain & Hugging Face\\ANN\\venv\\Lib\\site-packages\\keras\\src\\backend.py:1398: The name tf.executing_eagerly_outside_functions is deprecated. Please use tf.compat.v1.executing_eagerly_outside_functions instead.\n",
      "\n",
      "Model: \"sequential\"\n",
      "_________________________________________________________________\n",
      " Layer (type)                Output Shape              Param #   \n",
      "=================================================================\n",
      " embedding (Embedding)       (None, 500, 128)          2560000   \n",
      "                                                                 \n",
      " simple_rnn (SimpleRNN)      (None, 128)               32896     \n",
      "                                                                 \n",
      " dense (Dense)               (None, 1)                 129       \n",
      "                                                                 \n",
      "=================================================================\n",
      "Total params: 2593025 (9.89 MB)\n",
      "Trainable params: 2593025 (9.89 MB)\n",
      "Non-trainable params: 0 (0.00 Byte)\n",
      "_________________________________________________________________\n"
     ]
    }
   ],
   "source": [
    "# Load the model with pretrained ReLU activation\n",
    "\n",
    "model = load_model('simplernn_imdb_model.h5')\n",
    "model.summary()\n"
   ]
  },
  {
   "cell_type": "code",
   "execution_count": 4,
   "id": "860f2518",
   "metadata": {},
   "outputs": [],
   "source": [
    "# Step 2 Helper function to decode reviews\n",
    "def decode_review(text):\n",
    "    return ' '.join([reverse_word_index.get(i - 3, '?') for i in text])\n",
    "\n",
    "# Function to preprocess user input\n",
    "def preprocess_review(review, maxlen=500):\n",
    "    # Tokenize the review\n",
    "    tokens = review.lower().split()\n",
    "    # Convert tokens to indices based on the word index\n",
    "    indices = [word_index.get(word, 2) + 3 for word in tokens]  # 2 is for unknown words\n",
    "    # Pad the sequence to ensure consistent input length\n",
    "    padded_sequence = sequence.pad_sequences([indices], maxlen=maxlen)\n",
    "    return padded_sequence"
   ]
  },
  {
   "cell_type": "code",
   "execution_count": 5,
   "metadata": {},
   "outputs": [],
   "source": [
    "# Predict function\n",
    "def predict_review_sentiment(review):\n",
    "    processed_review = preprocess_review(review)\n",
    "    prediction = model.predict(processed_review)\n",
    "    sentiment = \"Positive\" if prediction[0][0] > 0.5 else \"Negative\"\n",
    "    return sentiment, prediction[0][0]"
   ]
  },
  {
   "cell_type": "code",
   "execution_count": 6,
   "id": "c26e698c",
   "metadata": {},
   "outputs": [
    {
     "name": "stdout",
     "output_type": "stream",
     "text": [
      "1/1 [==============================] - 0s 201ms/step\n",
      "Review: This movie was fantastic! The acting was great and the plot was thrilling.\n",
      "Predicted Sentiment: Positive (Score: 0.8706)\n"
     ]
    }
   ],
   "source": [
    "# Step 4: User input and prediction\n",
    "example_review = \"This movie was fantastic! The acting was great and the plot was thrilling.\"\n",
    "sentiment, score = predict_review_sentiment(example_review)\n",
    "print(f\"Review: {example_review}\\nPredicted Sentiment: {sentiment} (Score: {score:.4f})\")"
   ]
  }
 ],
 "metadata": {
  "kernelspec": {
   "display_name": "Python 3",
   "language": "python",
   "name": "python3"
  },
  "language_info": {
   "codemirror_mode": {
    "name": "ipython",
    "version": 3
   },
   "file_extension": ".py",
   "mimetype": "text/x-python",
   "name": "python",
   "nbconvert_exporter": "python",
   "pygments_lexer": "ipython3",
   "version": "3.11.0"
  }
 },
 "nbformat": 4,
 "nbformat_minor": 5
}
